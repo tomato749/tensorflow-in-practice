{
  "nbformat": 4,
  "nbformat_minor": 0,
  "metadata": {
    "colab": {
      "name": "basic_classification.ipynb",
      "version": "0.3.2",
      "provenance": [],
      "include_colab_link": true
    },
    "kernelspec": {
      "name": "python3",
      "display_name": "Python 3"
    }
  },
  "cells": [
    {
      "cell_type": "markdown",
      "metadata": {
        "id": "view-in-github",
        "colab_type": "text"
      },
      "source": [
        "[View in Colaboratory](https://colab.research.google.com/github/tzattack/tensorflow-in-practice/blob/master/basic_classification.ipynb)"
      ]
    },
    {
      "metadata": {
        "id": "zsoc994rAXoA",
        "colab_type": "code",
        "colab": {
          "base_uri": "https://localhost:8080/",
          "height": 253
        },
        "outputId": "b660adb9-1e33-40f6-ad71-8ab734c3379c"
      },
      "cell_type": "code",
      "source": [
        "# Import tensorflow\n",
        "# tensorflow and tf.keras\n",
        "import tensorflow as tf \n",
        "from tensorflow import keras\n",
        "\n",
        "fashion_mnist = keras.datasets.fashion_mnist\n",
        "\n",
        "(train_images, train_labels),(test_images, test_labels) = fashion_mnist.load_data()\n",
        "\n",
        "train_images = train_images / 255.0\n",
        "test_images = test_images / 255.0\n",
        "\n",
        "# Build the model \n",
        "model = keras.Sequential([\n",
        "    keras.layers.Flatten(input_shape=(28,28)),\n",
        "    keras.layers.Dense(128, activation=tf.nn.relu),\n",
        "    keras.layers.Dense(10, activation=tf.nn.softmax)\n",
        "])\n",
        "\n",
        "# Compile the model \n",
        "model.compile(\n",
        "    optimizer=tf.train.AdamOptimizer(),\n",
        "    loss='sparse_categorical_crossentropy',\n",
        "    metrics=['accuracy']\n",
        ")\n",
        "\n",
        "# Train the model \n",
        "model.fit(train_images, train_labels, epochs=5)\n",
        "\n",
        "# Evaluate accuracy\n",
        "test_loss, test_acc = model.evaluate(test_images, test_labels)\n",
        "\n",
        "print(\"Test accuracy: \", test_acc)\n",
        "\n"
      ],
      "execution_count": 11,
      "outputs": [
        {
          "output_type": "stream",
          "text": [
            "Epoch 1/5\n",
            "60000/60000 [==============================] - 4s 74us/step - loss: 0.4971 - acc: 0.8251\n",
            "Epoch 2/5\n",
            "60000/60000 [==============================] - 4s 72us/step - loss: 0.3761 - acc: 0.8643\n",
            "Epoch 3/5\n",
            "60000/60000 [==============================] - 4s 71us/step - loss: 0.3391 - acc: 0.8761\n",
            "Epoch 4/5\n",
            "60000/60000 [==============================] - 4s 71us/step - loss: 0.3157 - acc: 0.8834\n",
            "Epoch 5/5\n",
            "24992/60000 [===========>..................] - ETA: 2s - loss: 0.3010 - acc: 0.8899"
          ],
          "name": "stdout"
        },
        {
          "output_type": "stream",
          "text": [
            "60000/60000 [==============================] - 4s 72us/step - loss: 0.2949 - acc: 0.8917\n",
            "10000/10000 [==============================] - 0s 28us/step\n",
            "Test accuracy:  0.8661\n"
          ],
          "name": "stdout"
        }
      ]
    }
  ]
}